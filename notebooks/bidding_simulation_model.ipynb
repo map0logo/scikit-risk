{
 "cells": [
  {
   "cell_type": "markdown",
   "id": "24b7323d-e221-479d-91b3-a76e217fb5e1",
   "metadata": {},
   "source": [
    "# Bidding Simulation Model\n",
    "\n",
    "Miller Construction Company must decide whether to make a bid on a construction project. Miller believes it will cost the company \\\\$10,000 to complete the project (if it wins the contract), and it will cost \\\\$350 to prepare a bid. However, there is\n",
    "uncertainty about each of these. Upon further reflection, Miller assesses that the cost to complete the project has a triangular distribution with minimum, most likely, and maximum values \\\\$9000, \\\\$10,000, and \\\\$15,000.\n",
    "\n",
    "Similarly, Miller assesses that the cost to prepare a bid has a triangular distribution with parameters \\\\$300, \\\\$350, and \\\\$500. (Note the skewness in these distributions. Miller recognizes that cost overruns are much more likely than cost underruns.)\n",
    "\n",
    "Four potential competitors are going to bid against Miller. The lowest bid wins the contract, and the winner is then given the winning bid amount to complete the\n",
    "project. Based on past history, Miller believes that each potential competitor will bid, independently of the others, with probability 0.5.\n",
    "\n",
    "Miller also believes that each competitor’s bid will be a multiple of its (Miller’s) most likely cost to complete the project, where this multiple has a triangular distribution with minimum, most likely, and maximum values 0.9, 1.3, and 1.8, respectively.\n",
    "\n",
    "If Miller decides to prepare a bid, its bid amount will be a multiple of \\\\$500 in the range \\\\$10,500 to \\\\$15,000. The company wants to use simulation to determine which strategy to use to maximize its expected profit.\n"
   ]
  },
  {
   "cell_type": "code",
   "execution_count": 1,
   "id": "4fe4e56e-cd1e-40fb-9428-af1018b79d31",
   "metadata": {},
   "outputs": [],
   "source": [
    "import numpy as np\n",
    "import pandas as pd\n",
    "import scipy as sp\n",
    "import matplotlib.pyplot as plt\n",
    "import seaborn as sns"
   ]
  },
  {
   "cell_type": "markdown",
   "id": "f5ecc531-de07-4a8f-90b9-ce17ade1ee3f",
   "metadata": {},
   "source": [
    "## Inputs"
   ]
  },
  {
   "cell_type": "code",
   "execution_count": 2,
   "id": "c21a120a-0be8-47bd-a6d7-64e617551127",
   "metadata": {},
   "outputs": [],
   "source": [
    "bid_cost = {\"left\": 300, \"mode\": 350, \"right\": 500}\n",
    "project_cost = {\"left\": 9000, \"mode\": 10000, \"right\": 15000}"
   ]
  },
  {
   "cell_type": "code",
   "execution_count": 3,
   "id": "134301eb-7fb2-4c6e-a29d-d85be6a5f1bc",
   "metadata": {},
   "outputs": [],
   "source": [
    "num_competitors = 4\n",
    "prob_competitors = 0.5\n",
    "param_competitors = {\"left\": 0.9, \"mode\": 1.3, \"right\": 1.8}"
   ]
  },
  {
   "cell_type": "code",
   "execution_count": 4,
   "id": "03a58a17-a632-45d4-9acc-a3da6e0a2077",
   "metadata": {},
   "outputs": [],
   "source": [
    "millers_bid = np.linspace(10500, 15500, 11)"
   ]
  },
  {
   "cell_type": "code",
   "execution_count": 5,
   "id": "4d33f7d7-6987-4031-a5c6-f8a9dd8aa933",
   "metadata": {},
   "outputs": [],
   "source": [
    "n_sim = 1000"
   ]
  },
  {
   "cell_type": "code",
   "execution_count": 6,
   "id": "81c3605f-e5bf-4399-80a7-62c539560af3",
   "metadata": {},
   "outputs": [],
   "source": [
    "sim_bid_cost = np.random.triangular(**bid_cost, size=n_sim)\n",
    "sim_project_cost = np.random.triangular(**project_cost, size=n_sim)"
   ]
  },
  {
   "cell_type": "code",
   "execution_count": 8,
   "id": "53107857-ddcb-47e5-bc34-4ea1f7894a90",
   "metadata": {},
   "outputs": [
    {
     "data": {
      "image/png": "[encoded data removed]",
      "text/plain": [
       "<Figure size 432x288 with 1 Axes>"
      ]
     },
     "metadata": {
      "needs_background": "light"
     },
     "output_type": "display_data"
    }
   ],
   "source": [
    "sns.histplot(sim_bid_cost + sim_project_cost);"
   ]
  },
  {
   "cell_type": "code",
   "execution_count": 11,
   "id": "f849e461-f991-4ce3-b002-acf497deeab0",
   "metadata": {},
   "outputs": [],
   "source": [
    "sim_num_competitors = pd.DataFrame(np.random.binomial(num_competitors, 0.5, size=n_sim))"
   ]
  },
  {
   "cell_type": "code",
   "execution_count": 12,
   "id": "2654061d",
   "metadata": {},
   "outputs": [
    {
     "data": {
      "text/html": [
       "<div>\n",
       "<style scoped>\n",
       "    .dataframe tbody tr th:only-of-type {\n",
       "        vertical-align: middle;\n",
       "    }\n",
       "\n",
       "    .dataframe tbody tr th {\n",
       "        vertical-align: top;\n",
       "    }\n",
       "\n",
       "    .dataframe thead th {\n",
       "        text-align: right;\n",
       "    }\n",
       "</style>\n",
       "<table border=\"1\" class=\"dataframe\">\n",
       "  <thead>\n",
       "    <tr style=\"text-align: right;\">\n",
       "      <th></th>\n",
       "      <th>0</th>\n",
       "    </tr>\n",
       "  </thead>\n",
       "  <tbody>\n",
       "    <tr>\n",
       "      <th>0</th>\n",
       "      <td>3</td>\n",
       "    </tr>\n",
       "    <tr>\n",
       "      <th>1</th>\n",
       "      <td>2</td>\n",
       "    </tr>\n",
       "    <tr>\n",
       "      <th>2</th>\n",
       "      <td>4</td>\n",
       "    </tr>\n",
       "    <tr>\n",
       "      <th>3</th>\n",
       "      <td>2</td>\n",
       "    </tr>\n",
       "    <tr>\n",
       "      <th>4</th>\n",
       "      <td>3</td>\n",
       "    </tr>\n",
       "    <tr>\n",
       "      <th>...</th>\n",
       "      <td>...</td>\n",
       "    </tr>\n",
       "    <tr>\n",
       "      <th>995</th>\n",
       "      <td>2</td>\n",
       "    </tr>\n",
       "    <tr>\n",
       "      <th>996</th>\n",
       "      <td>2</td>\n",
       "    </tr>\n",
       "    <tr>\n",
       "      <th>997</th>\n",
       "      <td>2</td>\n",
       "    </tr>\n",
       "    <tr>\n",
       "      <th>998</th>\n",
       "      <td>3</td>\n",
       "    </tr>\n",
       "    <tr>\n",
       "      <th>999</th>\n",
       "      <td>3</td>\n",
       "    </tr>\n",
       "  </tbody>\n",
       "</table>\n",
       "<p>1000 rows × 1 columns</p>\n",
       "</div>"
      ],
      "text/plain": [
       "     0\n",
       "0    3\n",
       "1    2\n",
       "2    4\n",
       "3    2\n",
       "4    3\n",
       "..  ..\n",
       "995  2\n",
       "996  2\n",
       "997  2\n",
       "998  3\n",
       "999  3\n",
       "\n",
       "[1000 rows x 1 columns]"
      ]
     },
     "execution_count": 12,
     "metadata": {},
     "output_type": "execute_result"
    }
   ],
   "source": [
    "sim_num_competitors"
   ]
  },
  {
   "cell_type": "code",
   "execution_count": 17,
   "id": "c93c3aec",
   "metadata": {},
   "outputs": [
    {
     "data": {
      "text/plain": [
       "pandas.core.frame.DataFrame"
      ]
     },
     "execution_count": 17,
     "metadata": {},
     "output_type": "execute_result"
    }
   ],
   "source": [
    "type(sim_num_competitors)"
   ]
  },
  {
   "cell_type": "code",
   "execution_count": 9,
   "id": "182f692f-f142-462a-906a-790d38f77cc6",
   "metadata": {},
   "outputs": [],
   "source": [
    "# sim_num_competitors.shape = (n_sim, 1)"
   ]
  },
  {
   "cell_type": "code",
   "execution_count": 11,
   "id": "70829e3c-33aa-4c7a-baa2-0727b128abb4",
   "metadata": {},
   "outputs": [],
   "source": [
    "# def competitors_bids(n_competitors):\n",
    "#     return np.concatenate(\n",
    "#         (\n",
    "#             np.random.triangular(**param_competitors, size=n_competitors) * project_cost[\"mode\"],\n",
    "#             np.full((4 - n_competitors[0],), np.inf)\n",
    "#         )\n",
    "#     )"
   ]
  },
  {
   "cell_type": "code",
   "execution_count": 13,
   "id": "8f6dc81f",
   "metadata": {},
   "outputs": [],
   "source": [
    "def competing_bids(n_competitors):\n",
    "    return np.random.triangular(**param_competitors, size=n_competitors) * project_cost[\"mode\"]"
   ]
  },
  {
   "cell_type": "code",
   "execution_count": 12,
   "id": "6f64d130-4244-4731-aa5d-d46b88650f79",
   "metadata": {},
   "outputs": [],
   "source": [
    "# competitors_bids_df = np.apply_along_axis(competitors_bids, 1, sim_num_competitors)"
   ]
  },
  {
   "cell_type": "code",
   "execution_count": 19,
   "id": "be3a66e4",
   "metadata": {},
   "outputs": [],
   "source": [
    "competing_bids_s = sim_num_competitors.apply(competing_bids, axis=1)"
   ]
  },
  {
   "cell_type": "code",
   "execution_count": 26,
   "id": "2d3e596f",
   "metadata": {},
   "outputs": [
    {
     "data": {
      "text/plain": [
       "numpy.ndarray"
      ]
     },
     "execution_count": 26,
     "metadata": {},
     "output_type": "execute_result"
    }
   ],
   "source": [
    "type(competing_bids_s[0])"
   ]
  },
  {
   "cell_type": "code",
   "execution_count": 21,
   "id": "8b67e287",
   "metadata": {},
   "outputs": [
    {
     "data": {
      "text/plain": [
       "0      [13026.571970529261, 11669.557471401948, 13269...\n",
       "1               [13765.840229413921, 10804.254474927844]\n",
       "2      [11597.355403442289, 14835.15238330012, 13830....\n",
       "3                [12952.417863439787, 11947.26110738909]\n",
       "4      [15884.192465031332, 12697.186986598954, 13739...\n",
       "                             ...                        \n",
       "995              [16674.188394035602, 11810.98778818853]\n",
       "996             [12941.152179900653, 12101.794411062396]\n",
       "997             [12357.271704694533, 10920.593809668602]\n",
       "998    [14709.04362563987, 14514.377333454968, 13189....\n",
       "999    [13821.845889684326, 13890.69092964481, 11272....\n",
       "Length: 1000, dtype: object"
      ]
     },
     "execution_count": 21,
     "metadata": {},
     "output_type": "execute_result"
    }
   ],
   "source": [
    "competing_bids_s"
   ]
  },
  {
   "cell_type": "code",
   "execution_count": 30,
   "id": "1c0ed459-8e94-4d59-9cfa-4596376fe9f6",
   "metadata": {},
   "outputs": [],
   "source": [
    "competitors_best_bid = competing_bids_s.apply(lambda x: x.min() if x.size else np.inf)"
   ]
  },
  {
   "cell_type": "code",
   "execution_count": 31,
   "id": "661546b6",
   "metadata": {},
   "outputs": [
    {
     "data": {
      "text/plain": [
       "0      11669.557471\n",
       "1      10804.254475\n",
       "2      10382.113080\n",
       "3      11947.261107\n",
       "4      12697.186987\n",
       "           ...     \n",
       "995    11810.987788\n",
       "996    12101.794411\n",
       "997    10920.593810\n",
       "998    13189.975260\n",
       "999    11272.925323\n",
       "Length: 1000, dtype: float64"
      ]
     },
     "execution_count": 31,
     "metadata": {},
     "output_type": "execute_result"
    }
   ],
   "source": [
    "competitors_best_bid"
   ]
  },
  {
   "cell_type": "code",
   "execution_count": 32,
   "id": "54423dcb-efe7-4ebd-97d5-ca71a2c09583",
   "metadata": {},
   "outputs": [
    {
     "data": {
      "image/png": "[encoded data removed]",
      "text/plain": [
       "<Figure size 432x288 with 1 Axes>"
      ]
     },
     "metadata": {
      "needs_background": "light"
     },
     "output_type": "display_data"
    }
   ],
   "source": [
    "x = competitors_best_bid.copy()\n",
    "x[x == np.inf] = -1\n",
    "sns.histplot(x)\n",
    "plt.show()"
   ]
  },
  {
   "cell_type": "code",
   "execution_count": 34,
   "id": "d241458a",
   "metadata": {},
   "outputs": [
    {
     "data": {
      "text/plain": [
       "0       True\n",
       "1       True\n",
       "2      False\n",
       "3       True\n",
       "4       True\n",
       "       ...  \n",
       "995     True\n",
       "996     True\n",
       "997     True\n",
       "998     True\n",
       "999     True\n",
       "Length: 1000, dtype: bool"
      ]
     },
     "execution_count": 34,
     "metadata": {},
     "output_type": "execute_result"
    }
   ],
   "source": [
    "my_bid = millers_bid[0]\n",
    "my_bid < competitors_best_bid "
   ]
  },
  {
   "cell_type": "code",
   "execution_count": 15,
   "id": "0bea406e-644d-47de-adfd-12d69c1a343e",
   "metadata": {},
   "outputs": [
    {
     "name": "stdout",
     "output_type": "stream",
     "text": [
      "Expected mean profit: -1039.99, Won bids: 876\n"
     ]
    },
    {
     "data": {
      "image/png": "[encoded data removed]",
      "text/plain": [
       "<Figure size 432x288 with 1 Axes>"
      ]
     },
     "metadata": {
      "needs_background": "light"
     },
     "output_type": "display_data"
    },
    {
     "name": "stdout",
     "output_type": "stream",
     "text": [
      "Expected mean profit: -576.48, Won bids: 800\n"
     ]
    },
    {
     "data": {
      "image/png": "[encoded data removed]",
      "text/plain": [
       "<Figure size 432x288 with 1 Axes>"
      ]
     },
     "metadata": {
      "needs_background": "light"
     },
     "output_type": "display_data"
    },
    {
     "name": "stdout",
     "output_type": "stream",
     "text": [
      "Expected mean profit: -225.38, Won bids: 698\n"
     ]
    },
    {
     "data": {
      "image/png": "[encoded data removed]",
      "text/plain": [
       "<Figure size 432x288 with 1 Axes>"
      ]
     },
     "metadata": {
      "needs_background": "light"
     },
     "output_type": "display_data"
    },
    {
     "name": "stdout",
     "output_type": "stream",
     "text": [
      "Expected mean profit: 34.40, Won bids: 600\n"
     ]
    },
    {
     "data": {
      "image/png": "[encoded data removed]",
      "text/plain": [
       "<Figure size 432x288 with 1 Axes>"
      ]
     },
     "metadata": {
      "needs_background": "light"
     },
     "output_type": "display_data"
    },
    {
     "name": "stdout",
     "output_type": "stream",
     "text": [
      "Expected mean profit: 197.35, Won bids: 484\n"
     ]
    },
    {
     "data": {
      "image/png": "[encoded data removed]",
      "text/plain": [
       "<Figure size 432x288 with 1 Axes>"
      ]
     },
     "metadata": {
      "needs_background": "light"
     },
     "output_type": "display_data"
    },
    {
     "name": "stdout",
     "output_type": "stream",
     "text": [
      "Expected mean profit: 257.51, Won bids: 369\n"
     ]
    },
    {
     "data": {
      "image/png": "[encoded data removed]",
      "text/plain": [
       "<Figure size 432x288 with 1 Axes>"
      ]
     },
     "metadata": {
      "needs_background": "light"
     },
     "output_type": "display_data"
    },
    {
     "name": "stdout",
     "output_type": "stream",
     "text": [
      "Expected mean profit: 179.96, Won bids: 252\n"
     ]
    },
    {
     "data": {
      "image/png": "[encoded data removed]",
      "text/plain": [
       "<Figure size 432x288 with 1 Axes>"
      ]
     },
     "metadata": {
      "needs_background": "light"
     },
     "output_type": "display_data"
    },
    {
     "name": "stdout",
     "output_type": "stream",
     "text": [
      "Expected mean profit: 164.44, Won bids: 198\n"
     ]
    },
    {
     "data": {
      "image/png": "[encoded data removed]",
      "text/plain": [
       "<Figure size 432x288 with 1 Axes>"
      ]
     },
     "metadata": {
      "needs_background": "light"
     },
     "output_type": "display_data"
    },
    {
     "name": "stdout",
     "output_type": "stream",
     "text": [
      "Expected mean profit: 123.33, Won bids: 153\n"
     ]
    },
    {
     "data": {
      "image/png": "[encoded data removed]",
      "text/plain": [
       "<Figure size 432x288 with 1 Axes>"
      ]
     },
     "metadata": {
      "needs_background": "light"
     },
     "output_type": "display_data"
    },
    {
     "name": "stdout",
     "output_type": "stream",
     "text": [
      "Expected mean profit: 78.89, Won bids: 122\n"
     ]
    },
    {
     "data": {
      "image/png": "[encoded data removed]",
      "text/plain": [
       "<Figure size 432x288 with 1 Axes>"
      ]
     },
     "metadata": {
      "needs_background": "light"
     },
     "output_type": "display_data"
    },
    {
     "name": "stdout",
     "output_type": "stream",
     "text": [
      "Expected mean profit: 31.66, Won bids: 95\n"
     ]
    },
    {
     "data": {
      "image/png": "[encoded data removed]",
      "text/plain": [
       "<Figure size 432x288 with 1 Axes>"
      ]
     },
     "metadata": {
      "needs_background": "light"
     },
     "output_type": "display_data"
    }
   ],
   "source": [
    "for bid in millers_bid:\n",
    "    win_contract = competitors_best_bid > bid\n",
    "    profit = (win_contract * (bid - sim_project_cost)) - sim_bid_cost\n",
    "    sns.histplot(profit, bins=30).set(title=f'Millers Bid: {bid}')\n",
    "    print(f\"Expected mean profit: {profit.mean():.2f}, Won bids: {win_contract.sum()}\")\n",
    "    plt.show()"
   ]
  }
 ],
 "metadata": {
  "interpreter": {
   "hash": "07e7718586b97142c6768d1271961564e3b028415625c3c22a428d3d4468aaaa"
  },
  "kernelspec": {
   "display_name": "Python 3.10.4 ('venv': venv)",
   "language": "python",
   "name": "python3"
  },
  "language_info": {
   "codemirror_mode": {
    "name": "ipython",
    "version": 3
   },
   "file_extension": ".py",
   "mimetype": "text/x-python",
   "name": "python",
   "nbconvert_exporter": "python",
   "pygments_lexer": "ipython3",
   "version": "3.10.5"
  }
 },
 "nbformat": 4,
 "nbformat_minor": 5
}
